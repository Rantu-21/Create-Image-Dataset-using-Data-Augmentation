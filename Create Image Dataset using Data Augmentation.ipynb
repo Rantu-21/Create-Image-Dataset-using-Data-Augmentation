{
 "cells": [
  {
   "cell_type": "code",
   "execution_count": 1,
   "id": "c61a3d94",
   "metadata": {
    "scrolled": true
   },
   "outputs": [],
   "source": [
    "from keras.preprocessing.image import ImageDataGenerator  \n",
    "from tensorflow.keras.utils import array_to_img, img_to_array, load_img"
   ]
  },
  {
   "cell_type": "code",
   "execution_count": 2,
   "id": "89bd36e7",
   "metadata": {},
   "outputs": [],
   "source": [
    "datagen = ImageDataGenerator(\n",
    "        rotation_range=90,\n",
    "        width_shift_range=0.3,\n",
    "        height_shift_range=0.2,\n",
    "        shear_range=0.5,\n",
    "        zoom_range=0.2,\n",
    "        horizontal_flip=True,\n",
    "        brightness_range=[0.1,0.3],\n",
    "        fill_mode='nearest')"
   ]
  },
  {
   "cell_type": "code",
   "execution_count": 5,
   "id": "c04d72f0",
   "metadata": {},
   "outputs": [],
   "source": [
    "#load image will load the image from directory\n",
    "img = load_img(\"Data/Normal_Skin/Normal_1.png\")\n",
    "\n",
    "# img_to_convert that img into a array\n",
    "x = img_to_array(img)\n",
    "\n",
    "#here we will reshape the image according to our size\n",
    "x = x.reshape((1,)+x.shape)\n",
    "\n",
    "i = 0\n",
    "#this loop will create 10 augmented images into save_to_dir of our original image\n",
    "for batch in datagen.flow(x, batch_size=1, save_to_dir = \"Normal\", save_prefix=\"Normal\", save_format=\"jpg\"):\n",
    "    i+=1\n",
    "    if i>=10:   \n",
    "        break"
   ]
  },
  {
   "cell_type": "code",
   "execution_count": null,
   "id": "d5838beb",
   "metadata": {},
   "outputs": [],
   "source": []
  }
 ],
 "metadata": {
  "kernelspec": {
   "display_name": "Python 3",
   "language": "python",
   "name": "python3"
  },
  "language_info": {
   "codemirror_mode": {
    "name": "ipython",
    "version": 3
   },
   "file_extension": ".py",
   "mimetype": "text/x-python",
   "name": "python",
   "nbconvert_exporter": "python",
   "pygments_lexer": "ipython3",
   "version": "3.8.8"
  }
 },
 "nbformat": 4,
 "nbformat_minor": 5
}
